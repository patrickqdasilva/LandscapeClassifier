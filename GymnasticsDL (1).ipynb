{
 "cells": [
  {
   "cell_type": "markdown",
   "id": "6d5a01cd",
   "metadata": {},
   "source": [
    "Just to see if this works!"
   ]
  },
  {
   "cell_type": "code",
   "execution_count": 1,
   "id": "271f2ea2",
   "metadata": {},
   "outputs": [
    {
     "name": "stdout",
     "output_type": "stream",
     "text": [
      "Hi :)\n"
     ]
    }
   ],
   "source": [
    "print('Hi :)')"
   ]
  }
 ],
 "metadata": {
  "kernelspec": {
   "display_name": "Python 3 (ipykernel)",
   "language": "python",
   "name": "python3"
  },
  "language_info": {
   "codemirror_mode": {
    "name": "ipython",
    "version": 3
   },
   "file_extension": ".py",
   "mimetype": "text/x-python",
   "name": "python",
   "nbconvert_exporter": "python",
   "pygments_lexer": "ipython3",
   "version": "3.9.7"
  }
 },
 "nbformat": 4,
 "nbformat_minor": 5
}
